{
 "cells": [
  {
   "cell_type": "markdown",
   "metadata": {},
   "source": [
    "# Continual Learning"
   ]
  },
  {
   "cell_type": "markdown",
   "metadata": {},
   "source": [
    "##  Import library"
   ]
  },
  {
   "cell_type": "code",
   "execution_count": 17,
   "metadata": {},
   "outputs": [],
   "source": [
    "import pickle\n",
    "from sklearn.datasets import make_classification\n",
    "from sklearn.linear_model import SGDClassifier\n",
    "from sklearn.metrics import accuracy_score\n",
    "from sklearn.model_selection import train_test_split\n",
    "import numpy as np"
   ]
  },
  {
   "cell_type": "markdown",
   "metadata": {},
   "source": [
    "## Create Dataset"
   ]
  },
  {
   "cell_type": "code",
   "execution_count": 18,
   "metadata": {},
   "outputs": [],
   "source": [
    "datasets = []\n",
    "for _ in range(3):\n",
    "    X, y = make_classification(n_samples=50000, n_features=40, random_state=42)\n",
    "    datasets.append((X, y))"
   ]
  },
  {
   "cell_type": "markdown",
   "metadata": {},
   "source": [
    "## Fit 3 times with 3 dataset"
   ]
  },
  {
   "cell_type": "code",
   "execution_count": 19,
   "metadata": {},
   "outputs": [
    {
     "name": "stdout",
     "output_type": "stream",
     "text": [
      "Training on dataset 1\n",
      "Accuracy on dataset 1: 0.90\n",
      "Training on dataset 2\n",
      "Accuracy on dataset 2: 0.90\n",
      "Training on dataset 3\n",
      "Accuracy on dataset 3: 0.90\n"
     ]
    }
   ],
   "source": [
    "clf = SGDClassifier(random_state=42)\n",
    "\n",
    "for i, (X, y) in enumerate(datasets):\n",
    "    print(f\"Training on dataset {i+1}\")\n",
    "    \n",
    "    X_train, X_test, y_train, y_test = train_test_split(X, y, test_size=0.2, random_state=42)\n",
    "    \n",
    "    clf.partial_fit(X_train, y_train, classes=np.unique(y))\n",
    "    \n",
    "    y_pred = clf.predict(X_test)\n",
    "    accuracy = accuracy_score(y_test, y_pred)\n",
    "    print(f\"Accuracy on dataset {i+1}: {accuracy:.2f}\")\n",
    "    \n",
    "    model_filename = f\"model_{i+1}.pkl\"\n",
    "    with open(model_filename, 'wb') as model_file:\n",
    "        pickle.dump(clf, model_file)\n",
    "\n",
    "    with open(model_filename, 'rb') as model_file:\n",
    "        clf = pickle.load(model_file)"
   ]
  },
  {
   "cell_type": "markdown",
   "metadata": {},
   "source": [
    "# Test Production"
   ]
  },
  {
   "cell_type": "code",
   "execution_count": 20,
   "metadata": {},
   "outputs": [
    {
     "name": "stdout",
     "output_type": "stream",
     "text": [
      "Accuracy on production dataset using model 1: 0.49\n",
      "Accuracy on production dataset using model 2: 0.48\n",
      "Accuracy on production dataset using model 3: 0.48\n"
     ]
    }
   ],
   "source": [
    "X_prod, y_prod = make_classification(n_samples=30000, n_features=40, random_state=42)\n",
    "\n",
    "for i in range(3):\n",
    "    model_filename = f\"model_{i+1}.pkl\"\n",
    "    with open(model_filename, 'rb') as model_file:\n",
    "        clf = pickle.load(model_file)\n",
    "    \n",
    "    y_pred_prod = clf.predict(X_prod)\n",
    "    accuracy_prod = accuracy_score(y_prod, y_pred_prod)\n",
    "    print(f\"Accuracy on production dataset using model {i+1}: {accuracy_prod:.2f}\")"
   ]
  }
 ],
 "metadata": {
  "kernelspec": {
   "display_name": "Python 3",
   "language": "python",
   "name": "python3"
  },
  "language_info": {
   "codemirror_mode": {
    "name": "ipython",
    "version": 3
   },
   "file_extension": ".py",
   "mimetype": "text/x-python",
   "name": "python",
   "nbconvert_exporter": "python",
   "pygments_lexer": "ipython3",
   "version": "3.11.2"
  }
 },
 "nbformat": 4,
 "nbformat_minor": 2
}
